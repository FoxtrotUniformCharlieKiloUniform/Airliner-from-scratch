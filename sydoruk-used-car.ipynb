{
 "cells": [
  {
   "cell_type": "code",
   "execution_count": 1,
   "id": "34c204df",
   "metadata": {
    "_cell_guid": "b1076dfc-b9ad-4769-8c92-a6c4dae69d19",
    "_uuid": "8f2839f25d086af736a60e9eeb907d3b93b6e0e5",
    "execution": {
     "iopub.execute_input": "2024-09-11T23:44:16.731830Z",
     "iopub.status.busy": "2024-09-11T23:44:16.731332Z",
     "iopub.status.idle": "2024-09-11T23:44:23.589504Z",
     "shell.execute_reply": "2024-09-11T23:44:23.588720Z"
    },
    "papermill": {
     "duration": 6.867052,
     "end_time": "2024-09-11T23:44:23.591914",
     "exception": false,
     "start_time": "2024-09-11T23:44:16.724862",
     "status": "completed"
    },
    "tags": []
   },
   "outputs": [
    {
     "name": "stdout",
     "output_type": "stream",
     "text": [
      "Table names:  sample_submission.csv\n",
      "Table names:  train.csv\n",
      "Table names:  test.csv\n"
     ]
    }
   ],
   "source": [
    "# This Python 3 environment comes with many helpful analytics libraries installed\n",
    "# It is defined by the kaggle/python Docker image: https://github.com/kaggle/docker-python\n",
    "# For example, here's several helpful packages to load\n",
    "\n",
    "import numpy as np # linear algebra\n",
    "import pandas as pd # data processing, CSV file I/O (e.g. pd.read_csv)\n",
    "import torch \n",
    "import torch.nn.functional as F\n",
    "import torch.optim as optim\n",
    "from torch.utils.data import Dataset, DataLoader\n",
    "from sklearn import preprocessing \n",
    "import torch.nn as nn\n",
    "import torch.utils.data\n",
    "label_encoder = preprocessing.LabelEncoder()\n",
    "\n",
    "# Input data files are available in the read-only \"../input/\" directory\n",
    "# For example, running this (by clicking run or pressing Shift+Enter) will list all files under the input directory\n",
    "\n",
    "import os\n",
    "for dirname, _, filenames in os.walk('/kaggle/input'):\n",
    "    for filename in filenames:\n",
    "        print(\"Table names: \", filename)\n",
    "        fullPath = os.path.join(dirname, filename)\n",
    "        \n",
    "        \n",
    "        if filename == \"train.csv\":\n",
    "            trainDS = pd.read_csv(fullPath)\n",
    "            trainDS = trainDS[1:1000]\n",
    "        if filename == \"test.csv\":\n",
    "            testDS = pd.read_csv(fullPath)\n",
    "        \n",
    "        \n",
    "# You can write up to 20GB to the current directory (/kaggle/working/) that gets preserved as output when you create a version using \"Save & Run All\" \n",
    "# You can also write temporary files to /kaggle/temp/, but they won't be saved outside of the current session"
   ]
  },
  {
   "cell_type": "code",
   "execution_count": 2,
   "id": "1bc745bf",
   "metadata": {
    "execution": {
     "iopub.execute_input": "2024-09-11T23:44:23.602955Z",
     "iopub.status.busy": "2024-09-11T23:44:23.602576Z",
     "iopub.status.idle": "2024-09-11T23:44:23.720830Z",
     "shell.execute_reply": "2024-09-11T23:44:23.719847Z"
    },
    "papermill": {
     "duration": 0.125794,
     "end_time": "2024-09-11T23:44:23.722789",
     "exception": false,
     "start_time": "2024-09-11T23:44:23.596995",
     "status": "completed"
    },
    "tags": []
   },
   "outputs": [
    {
     "name": "stdout",
     "output_type": "stream",
     "text": [
      "Using GPU:  Tesla T4\n"
     ]
    }
   ],
   "source": [
    "## using hardware accelerators\n",
    "if torch.cuda.is_available():\n",
    "    device = torch.device('cuda')\n",
    "    print(\"Using GPU: \", torch.cuda.get_device_name(0))\n",
    "elif 'XLA_USE_BF16' in os.environ:  # This is how TPUs are usually detected in Kaggle\n",
    "    import torch_xla.core.xla_model as xm\n",
    "    device = xm.xla_device()\n",
    "    print(\"Using TPU\")\n",
    "else:\n",
    "    device = torch.device('cpu')\n",
    "    print(\"Using CPU\")"
   ]
  },
  {
   "cell_type": "code",
   "execution_count": 3,
   "id": "fe086b37",
   "metadata": {
    "execution": {
     "iopub.execute_input": "2024-09-11T23:44:23.733991Z",
     "iopub.status.busy": "2024-09-11T23:44:23.733350Z",
     "iopub.status.idle": "2024-09-11T23:44:23.749273Z",
     "shell.execute_reply": "2024-09-11T23:44:23.748194Z"
    },
    "papermill": {
     "duration": 0.023633,
     "end_time": "2024-09-11T23:44:23.751291",
     "exception": false,
     "start_time": "2024-09-11T23:44:23.727658",
     "status": "completed"
    },
    "tags": []
   },
   "outputs": [
    {
     "name": "stdout",
     "output_type": "stream",
     "text": [
      "   id    brand  model  model_year  milage fuel_type  \\\n",
      "1   1  Lincoln  LS V8        2002  143250  Gasoline   \n",
      "\n",
      "                                         engine transmission ext_col int_col  \\\n",
      "1  252.0HP 3.9L 8 Cylinder Engine Gasoline Fuel          A/T  Silver   Beige   \n",
      "\n",
      "                                 accident clean_title  price  \n",
      "1  At least 1 accident or damage reported         Yes   4999  \n"
     ]
    }
   ],
   "source": [
    "## The plan\n",
    "#Split up engine type into the following columns\n",
    "#HP, engine size (without the Liter), cylinder number (sometimes says X cylinder, sometimes VX or IX),fuel type\n",
    "\n",
    "#encode brand, model, fuel_type, ext_col, int_col, accident, clean_title\n",
    "\n",
    "#label is obviously price\n",
    "print(trainDS.head(1))"
   ]
  },
  {
   "cell_type": "code",
   "execution_count": 4,
   "id": "22bbc4d0",
   "metadata": {
    "execution": {
     "iopub.execute_input": "2024-09-11T23:44:23.762989Z",
     "iopub.status.busy": "2024-09-11T23:44:23.762051Z",
     "iopub.status.idle": "2024-09-11T23:44:23.769385Z",
     "shell.execute_reply": "2024-09-11T23:44:23.768573Z"
    },
    "papermill": {
     "duration": 0.01486,
     "end_time": "2024-09-11T23:44:23.771311",
     "exception": false,
     "start_time": "2024-09-11T23:44:23.756451",
     "status": "completed"
    },
    "tags": []
   },
   "outputs": [
    {
     "data": {
      "text/plain": [
       "'## Data preprocessing block (from above plan)\\n#print(trainDS.head(20))\\nprint(trainDS[\"engine\"].value_counts())\\nprint(len(trainDS) - trainDS[\\'engine\\'].str.contains(\"HP\").sum())\\nprint(trainDS[\\'engine\\'].str.contains(\"HP\").sum())\\n\\nunique_non_occurrences = trainDS[~trainDS[\\'engine\\'].str.contains(\\'HP\\')][\\'engine\\'].unique()\\nprint(unique_non_occurrences)'"
      ]
     },
     "execution_count": 4,
     "metadata": {},
     "output_type": "execute_result"
    }
   ],
   "source": [
    "#Taking a look at what engines have HP in them or not\n",
    "'''## Data preprocessing block (from above plan)\n",
    "#print(trainDS.head(20))\n",
    "print(trainDS[\"engine\"].value_counts())\n",
    "print(len(trainDS) - trainDS['engine'].str.contains(\"HP\").sum())\n",
    "print(trainDS['engine'].str.contains(\"HP\").sum())\n",
    "\n",
    "unique_non_occurrences = trainDS[~trainDS['engine'].str.contains('HP')]['engine'].unique()\n",
    "print(unique_non_occurrences)'''"
   ]
  },
  {
   "cell_type": "code",
   "execution_count": 5,
   "id": "ecee62ea",
   "metadata": {
    "execution": {
     "iopub.execute_input": "2024-09-11T23:44:23.782318Z",
     "iopub.status.busy": "2024-09-11T23:44:23.782010Z",
     "iopub.status.idle": "2024-09-11T23:44:23.791779Z",
     "shell.execute_reply": "2024-09-11T23:44:23.790919Z"
    },
    "papermill": {
     "duration": 0.017581,
     "end_time": "2024-09-11T23:44:23.793701",
     "exception": false,
     "start_time": "2024-09-11T23:44:23.776120",
     "status": "completed"
    },
    "tags": []
   },
   "outputs": [],
   "source": [
    "def preprocess(df):\n",
    "    # Ensure the input is a DataFrame\n",
    "    if not isinstance(df, pd.DataFrame):\n",
    "        print(\"Variable is not a dataframe.\")\n",
    "        raise SystemExit(\"Stopping execution due to incorrect input.\")\n",
    "\n",
    "    # Check if 'engine' column exists\n",
    "    columnSet = [\"engine\"]\n",
    "    if set(columnSet).issubset(df.columns):\n",
    "        print(\"'engine' column found, processing...\")\n",
    "        \n",
    "        # Split the 'engine' column\n",
    "        try:\n",
    "            columnAdditions = df[\"engine\"].str.split('HP', expand=True)\n",
    "            intermVar = columnAdditions[1].str.split(\"L\", expand=True)\n",
    "            columnAdditions = pd.concat([columnAdditions, intermVar], axis=1)\n",
    "\n",
    "            # Cleanup column names\n",
    "            columnAdditions.columns = [0, 1, 2, 3]  # Give temporary names\n",
    "            columnAdditions = columnAdditions.rename(columns={0: \"HP\", 2: \"engine_size\"})\n",
    "            columnAdditions = columnAdditions.drop([1, 3], axis=1)  # Drop unnecessary columns\n",
    "\n",
    "            # Convert to numeric values\n",
    "            columnAdditions[\"HP\"] = pd.to_numeric(columnAdditions[\"HP\"], errors='coerce')\n",
    "            columnAdditions[\"engine_size\"] = pd.to_numeric(columnAdditions[\"engine_size\"], errors='coerce')\n",
    "\n",
    "            # Merge back with the original DataFrame\n",
    "            newdf = pd.concat([df, columnAdditions], axis=1)\n",
    "            newdf = newdf.drop(\"engine\", axis=1)  # Drop the original 'engine' column\n",
    "\n",
    "            print(\"Processing complete. Returning new DataFrame.\")\n",
    "            return newdf\n",
    "\n",
    "        except KeyError as e:\n",
    "            print(f\"KeyError: {e} - One of the expected columns is missing.\")\n",
    "        except Exception as e:\n",
    "            print(f\"An error occurred: {e}\")\n",
    "\n",
    "    else:\n",
    "        print(\"'engine' column is not in the DataFrame (it might have already been processed).\")\n",
    "        return df  # Return the original DataFrame if no processing was done\n"
   ]
  },
  {
   "cell_type": "code",
   "execution_count": 6,
   "id": "6f34e013",
   "metadata": {
    "execution": {
     "iopub.execute_input": "2024-09-11T23:44:23.804894Z",
     "iopub.status.busy": "2024-09-11T23:44:23.804574Z",
     "iopub.status.idle": "2024-09-11T23:44:23.810274Z",
     "shell.execute_reply": "2024-09-11T23:44:23.809531Z"
    },
    "papermill": {
     "duration": 0.013349,
     "end_time": "2024-09-11T23:44:23.812218",
     "exception": false,
     "start_time": "2024-09-11T23:44:23.798869",
     "status": "completed"
    },
    "tags": []
   },
   "outputs": [],
   "source": [
    "def encodeData(df, columnSet):\n",
    "    #make sure ds is dataframe\n",
    "    if isinstance(df, pd.DataFrame):\n",
    "        pass\n",
    "    else:\n",
    "        print(\"Variable is not dataframe\")\n",
    "        #raise SystemExit(\"Stop right there!\")\n",
    "       \n",
    "    #make sure column names are all valid \n",
    "    if set(columnSet).issubset(df.columns):\n",
    "        pass\n",
    "    else:\n",
    "        print(\"Col list invalid\")\n",
    "        #raise SystemExit(\"Stop right there!\")\n",
    "    \n",
    "    #encode all specified columns\n",
    "    for column in columnSet:\n",
    "        df[column] = label_encoder.fit_transform(df[column])\n",
    "    \n",
    "    return df"
   ]
  },
  {
   "cell_type": "code",
   "execution_count": 7,
   "id": "ade0f5fe",
   "metadata": {
    "execution": {
     "iopub.execute_input": "2024-09-11T23:44:23.823198Z",
     "iopub.status.busy": "2024-09-11T23:44:23.822902Z",
     "iopub.status.idle": "2024-09-11T23:44:23.866556Z",
     "shell.execute_reply": "2024-09-11T23:44:23.865383Z"
    },
    "papermill": {
     "duration": 0.051469,
     "end_time": "2024-09-11T23:44:23.868608",
     "exception": false,
     "start_time": "2024-09-11T23:44:23.817139",
     "status": "completed"
    },
    "tags": []
   },
   "outputs": [
    {
     "name": "stdout",
     "output_type": "stream",
     "text": [
      "'engine' column found, processing...\n",
      "Processing complete. Returning new DataFrame.\n"
     ]
    }
   ],
   "source": [
    "#load and process data\n",
    "batch_size = 32\n",
    "\n",
    "class carDataset(torch.utils.data.Dataset):\n",
    "    def __init__(self, df):\n",
    "        self.df = df\n",
    "        \n",
    "        #call engine preprocess method to preprocess the engines (split into HP and engine size)\n",
    "        self.df = preprocess(self.df)\n",
    "        self.df = encodeData(self.df, [\"model\", \"brand\", \"fuel_type\", \"transmission\", \"ext_col\", \"int_col\", \"accident\", \"clean_title\"])\n",
    "        \n",
    "        self.df = self.df.replace(np.nan,0)\n",
    "        \n",
    "        self.labels = self.df[[\"price\"]]   #y is just the price (this for )\n",
    "        self.labels=( self.labels- self.labels.min())/( self.labels.max()- self.labels.min())\n",
    "        \n",
    "        self.features = self.df.drop([\"price\"], axis = 1)  #x is dataframe with price column dropped \n",
    "        self.features = (self.features - self.features.mean())/self.features.std() \n",
    "            \n",
    "    def __getitem__(self, idx):\n",
    "        # Convert the features and labels to PyTorch tensors\n",
    "        features_tensor = torch.tensor(self.features.iloc[idx], dtype=torch.float32).to(device)\n",
    "        labels_tensor = torch.tensor(self.labels.iloc[idx], dtype=torch.float32).to(device)\n",
    "        \n",
    "        return features_tensor, labels_tensor\n",
    " \n",
    "    \n",
    "    def __len__(self):\n",
    "        return len(self.features)\n",
    "    \n",
    "carDataset = carDataset(trainDS)\n",
    "trainer = DataLoader(carDataset, batch_size = batch_size, shuffle = True)"
   ]
  },
  {
   "cell_type": "code",
   "execution_count": 8,
   "id": "e2a060bf",
   "metadata": {
    "execution": {
     "iopub.execute_input": "2024-09-11T23:44:23.879651Z",
     "iopub.status.busy": "2024-09-11T23:44:23.879152Z",
     "iopub.status.idle": "2024-09-11T23:44:23.887562Z",
     "shell.execute_reply": "2024-09-11T23:44:23.886734Z"
    },
    "papermill": {
     "duration": 0.015981,
     "end_time": "2024-09-11T23:44:23.889387",
     "exception": false,
     "start_time": "2024-09-11T23:44:23.873406",
     "status": "completed"
    },
    "tags": []
   },
   "outputs": [],
   "source": [
    "#load and process data\n",
    "batch_size = 32\n",
    "\n",
    "class carDataset(torch.utils.data.Dataset):\n",
    "    def __init__(self, df):\n",
    "        self.df = df\n",
    "        \n",
    "        #call engine preprocess method to preprocess the engines (split into HP and engine size)\n",
    "        self.df = preprocess(self.df)\n",
    "        self.df = encodeData(self.df, [\"model\", \"brand\", \"fuel_type\", \"transmission\", \"ext_col\", \"int_col\", \"accident\", \"clean_title\"])\n",
    "        \n",
    "        self.df = self.df.replace(np.nan,0)\n",
    "        \n",
    "        self.labels = self.df[[\"price\"]]   #y is just the price (this for )\n",
    "        self.features = self.df.drop([\"price\"], axis = 1)  #x is dataframe with price column dropped\n",
    "        print(self.features)\n",
    "        \n",
    "        self.features = (self.features - self.features.mean())/self.features.std() \n",
    "            \n",
    "    def __getitem__(self, idx):\n",
    "        # Convert the features and labels to PyTorch tensors\n",
    "        features_tensor = torch.tensor(self.features.iloc[idx], dtype=torch.float32).to(device)\n",
    "        labels_tensor = torch.tensor(self.labels.iloc[idx], dtype=torch.float32).to(device)\n",
    "        \n",
    "        return features_tensor, labels_tensor\n",
    " \n",
    "    \n",
    "    def __len__(self):\n",
    "        return len(self.features)"
   ]
  },
  {
   "cell_type": "code",
   "execution_count": 9,
   "id": "7636e40a",
   "metadata": {
    "execution": {
     "iopub.execute_input": "2024-09-11T23:44:23.900239Z",
     "iopub.status.busy": "2024-09-11T23:44:23.899979Z",
     "iopub.status.idle": "2024-09-11T23:44:23.906379Z",
     "shell.execute_reply": "2024-09-11T23:44:23.905548Z"
    },
    "papermill": {
     "duration": 0.014105,
     "end_time": "2024-09-11T23:44:23.908295",
     "exception": false,
     "start_time": "2024-09-11T23:44:23.894190",
     "status": "completed"
    },
    "tags": []
   },
   "outputs": [
    {
     "data": {
      "text/plain": [
       "'#initial random trees \\n\\nimport ydf\\nlearner = ydf.GradientBoostedTreesLearner(\\n    num_trees=15,\\n    label=\"price\",\\n    min_examples = 3,\\n    random_seed = 1,\\n)\\n\\ntrainDS = encodeData(preprocess(trainDS), [\"model\", \"brand\", \"fuel_type\", \"transmission\", \"ext_col\", \"int_col\", \"accident\", \"clean_title\"])\\n#print(trainDS.head)\\nmodel = learner.train(trainDS)\\ntestDS = encodeData(preprocess(testDS), [\"model\", \"brand\", \"fuel_type\", \"transmission\", \"ext_col\", \"int_col\", \"accident\", \"clean_title\"])\\npredict = model.predict(testDS)\\nmodel.describe()'"
      ]
     },
     "execution_count": 9,
     "metadata": {},
     "output_type": "execute_result"
    }
   ],
   "source": [
    "'''#initial random trees \n",
    "\n",
    "import ydf\n",
    "learner = ydf.GradientBoostedTreesLearner(\n",
    "    num_trees=15,\n",
    "    label=\"price\",\n",
    "    min_examples = 3,\n",
    "    random_seed = 1,\n",
    ")\n",
    "\n",
    "trainDS = encodeData(preprocess(trainDS), [\"model\", \"brand\", \"fuel_type\", \"transmission\", \"ext_col\", \"int_col\", \"accident\", \"clean_title\"])\n",
    "#print(trainDS.head)\n",
    "model = learner.train(trainDS)\n",
    "testDS = encodeData(preprocess(testDS), [\"model\", \"brand\", \"fuel_type\", \"transmission\", \"ext_col\", \"int_col\", \"accident\", \"clean_title\"])\n",
    "predict = model.predict(testDS)\n",
    "model.describe()'''"
   ]
  },
  {
   "cell_type": "code",
   "execution_count": 10,
   "id": "5a68f935",
   "metadata": {
    "execution": {
     "iopub.execute_input": "2024-09-11T23:44:23.919229Z",
     "iopub.status.busy": "2024-09-11T23:44:23.918971Z",
     "iopub.status.idle": "2024-09-11T23:44:23.926110Z",
     "shell.execute_reply": "2024-09-11T23:44:23.925418Z"
    },
    "papermill": {
     "duration": 0.014846,
     "end_time": "2024-09-11T23:44:23.928083",
     "exception": false,
     "start_time": "2024-09-11T23:44:23.913237",
     "status": "completed"
    },
    "tags": []
   },
   "outputs": [],
   "source": [
    "seed = 0\n",
    "torch.manual_seed(seed)\n",
    "if torch.cuda.is_available():\n",
    "    torch.cuda.manual_seed_all(seed)"
   ]
  },
  {
   "cell_type": "code",
   "execution_count": 11,
   "id": "65d3e60c",
   "metadata": {
    "execution": {
     "iopub.execute_input": "2024-09-11T23:44:23.939616Z",
     "iopub.status.busy": "2024-09-11T23:44:23.939291Z",
     "iopub.status.idle": "2024-09-11T23:44:28.698271Z",
     "shell.execute_reply": "2024-09-11T23:44:28.697412Z"
    },
    "papermill": {
     "duration": 4.76779,
     "end_time": "2024-09-11T23:44:28.700999",
     "exception": false,
     "start_time": "2024-09-11T23:44:23.933209",
     "status": "completed"
    },
    "tags": []
   },
   "outputs": [],
   "source": [
    "n = 45\n",
    "\n",
    "class usedCarModel(nn.Module):\n",
    "    def __init__(self, input_size, batch_size):\n",
    "        super(usedCarModel, self).__init__()\n",
    "        self.input_size = input_size\n",
    "        self.batch_size = batch_size\n",
    "        \n",
    "        # Define the layers\n",
    "        self.fc1 = nn.Linear(input_size, n*512)  # First hidden layer\n",
    "        self.bn1 = nn.BatchNorm1d(n*512)         # Batch Normalization for first hidden layer\n",
    "        self.fc2 = nn.Linear(n*512,n*256)        # Second hidden layer\n",
    "        self.bn2 = nn.BatchNorm1d(256*n)         # Batch Normalization for second hidden layer\n",
    "        self.fc3 = nn.Linear(256*n, 128*n)       # Third hidden layer\n",
    "        self.bn3 = nn.BatchNorm1d(128*n)         # Batch Normalization for third hidden layer\n",
    "        self.fc4 = nn.Linear(128*n, 64*n)        # Fourth hidden layer\n",
    "        self.fc5 = nn.Linear(64*n, 1)            # Output layer\n",
    "        \n",
    "        # Activation function\n",
    "        self.relu = nn.ReLU()\n",
    "        # Dropout for regularization\n",
    "        self.dropout = nn.Dropout(p=0.3)\n",
    "\n",
    "    def forward(self, x):\n",
    "        # Forward pass\n",
    "        x = x.to(device)\n",
    "        x = self.relu(self.bn1(self.fc1(x)))  # First layer + BatchNorm + activation\n",
    "        x = self.dropout(x)                   # Dropout layer\n",
    "        x = self.relu(self.bn2(self.fc2(x)))  # Second layer + BatchNorm + activation\n",
    "        x = self.dropout(x)                   # Dropout layer\n",
    "        x = self.relu(self.bn3(self.fc3(x)))  # Third layer + BatchNorm + activation\n",
    "        x = self.relu(self.fc4(x))            # Fourth layer + activation\n",
    "        x = self.fc5(x)                       # Output layer\n",
    "        return x\n",
    "\n",
    "\n",
    "#model / hyperparameter definitions\n",
    "num_epochs = 100\n",
    "learning_rate = 0.0001\n",
    "input_size = trainDS.shape[1]\n",
    "model = usedCarModel(input_size, batch_size)\n",
    "model = model.to(device)\n",
    "criterion = nn.MSELoss()\n",
    "opt = optim.Adam(model.parameters(), lr = learning_rate)\n",
    "\n",
    "lossVec = np.zeros(num_epochs)"
   ]
  },
  {
   "cell_type": "code",
   "execution_count": 12,
   "id": "627f9559",
   "metadata": {
    "execution": {
     "iopub.execute_input": "2024-09-11T23:44:28.714638Z",
     "iopub.status.busy": "2024-09-11T23:44:28.713936Z",
     "iopub.status.idle": "2024-09-11T23:51:45.712989Z",
     "shell.execute_reply": "2024-09-11T23:51:45.711904Z"
    },
    "papermill": {
     "duration": 437.007964,
     "end_time": "2024-09-11T23:51:45.715161",
     "exception": false,
     "start_time": "2024-09-11T23:44:28.707197",
     "status": "completed"
    },
    "tags": []
   },
   "outputs": [
    {
     "name": "stderr",
     "output_type": "stream",
     "text": [
      "/tmp/ipykernel_23/4091963302.py:22: FutureWarning: Series.__getitem__ treating keys as positions is deprecated. In a future version, integer keys will always be treated as labels (consistent with DataFrame behavior). To access a value by position, use `ser.iloc[pos]`\n",
      "  features_tensor = torch.tensor(self.features.iloc[idx], dtype=torch.float32).to(device)\n",
      "/tmp/ipykernel_23/4091963302.py:23: FutureWarning: Series.__getitem__ treating keys as positions is deprecated. In a future version, integer keys will always be treated as labels (consistent with DataFrame behavior). To access a value by position, use `ser.iloc[pos]`\n",
      "  labels_tensor = torch.tensor(self.labels.iloc[idx], dtype=torch.float32).to(device)\n"
     ]
    },
    {
     "name": "stdout",
     "output_type": "stream",
     "text": [
      "Epoch [1/100], Loss: 0.6328, learning rate 0.0001\n",
      "Mean epoch output:  [-0.03656581]\n",
      "Epoch [2/100], Loss: 0.0243, learning rate 0.0001\n",
      "Mean epoch output:  [-0.06918512]\n",
      "Epoch [3/100], Loss: 0.0221, learning rate 0.0001\n",
      "Mean epoch output:  [-0.03728673]\n",
      "Epoch [4/100], Loss: 0.0230, learning rate 0.0001\n",
      "Mean epoch output:  [0.00045303]\n",
      "Epoch [5/100], Loss: 0.0210, learning rate 0.0001\n",
      "Mean epoch output:  [0.067578]\n",
      "Epoch [6/100], Loss: 0.0198, learning rate 0.0001\n",
      "Mean epoch output:  [-0.0023343]\n",
      "Epoch [7/100], Loss: 0.0198, learning rate 0.0001\n",
      "Mean epoch output:  [0.03172849]\n",
      "Epoch [8/100], Loss: 0.0195, learning rate 0.0001\n",
      "Mean epoch output:  [0.03346122]\n",
      "Epoch [9/100], Loss: 0.0189, learning rate 0.0001\n",
      "Mean epoch output:  [-0.00072636]\n",
      "Epoch [10/100], Loss: 0.0177, learning rate 0.0001\n",
      "Mean epoch output:  [0.02897998]\n",
      "Epoch [11/100], Loss: 0.0176, learning rate 0.0001\n",
      "Mean epoch output:  [0.00616081]\n",
      "Epoch [12/100], Loss: 0.0182, learning rate 0.0001\n",
      "Mean epoch output:  [-0.01407771]\n",
      "Epoch [13/100], Loss: 0.0172, learning rate 0.0001\n",
      "Mean epoch output:  [0.02063939]\n",
      "Epoch [14/100], Loss: 0.0173, learning rate 0.0001\n",
      "Mean epoch output:  [-0.00385305]\n",
      "Epoch [15/100], Loss: 0.0157, learning rate 0.0001\n",
      "Mean epoch output:  [-0.06701178]\n",
      "Epoch [16/100], Loss: 0.0163, learning rate 0.0001\n",
      "Mean epoch output:  [-0.01561106]\n",
      "Epoch [17/100], Loss: 0.0148, learning rate 0.0001\n",
      "Mean epoch output:  [0.03661385]\n",
      "Epoch [18/100], Loss: 0.0154, learning rate 0.0001\n",
      "Mean epoch output:  [0.01442867]\n",
      "Epoch [19/100], Loss: 0.0143, learning rate 0.0001\n",
      "Mean epoch output:  [-0.05935738]\n",
      "Epoch [20/100], Loss: 0.0143, learning rate 0.0001\n",
      "Mean epoch output:  [-0.00543739]\n",
      "Epoch [21/100], Loss: 0.0145, learning rate 0.0001\n",
      "Mean epoch output:  [0.00873923]\n",
      "Epoch [22/100], Loss: 0.0135, learning rate 0.0001\n",
      "Mean epoch output:  [0.00724254]\n",
      "Epoch [23/100], Loss: 0.0134, learning rate 0.0001\n",
      "Mean epoch output:  [0.00810006]\n",
      "Epoch [24/100], Loss: 0.0135, learning rate 0.0001\n",
      "Mean epoch output:  [-0.02279833]\n",
      "Epoch [25/100], Loss: 0.0125, learning rate 0.0001\n",
      "Mean epoch output:  [-0.0685339]\n",
      "Epoch [26/100], Loss: 0.0121, learning rate 0.0001\n",
      "Mean epoch output:  [-0.05138575]\n",
      "Epoch [27/100], Loss: 0.0120, learning rate 0.0001\n",
      "Mean epoch output:  [0.07453955]\n",
      "Epoch [28/100], Loss: 0.0115, learning rate 0.0001\n",
      "Mean epoch output:  [0.03154467]\n",
      "Epoch [29/100], Loss: 0.0117, learning rate 0.0001\n",
      "Mean epoch output:  [-0.0375515]\n",
      "Epoch [30/100], Loss: 0.0112, learning rate 0.0001\n",
      "Mean epoch output:  [0.00710319]\n",
      "Epoch [31/100], Loss: 0.0106, learning rate 0.0001\n",
      "Mean epoch output:  [0.0124115]\n",
      "Epoch [32/100], Loss: 0.0112, learning rate 0.0001\n",
      "Mean epoch output:  [-0.06360155]\n",
      "Epoch [33/100], Loss: 0.0110, learning rate 0.0001\n",
      "Mean epoch output:  [0.05478983]\n",
      "Epoch [34/100], Loss: 0.0104, learning rate 0.0001\n",
      "Mean epoch output:  [0.05169342]\n",
      "Epoch [35/100], Loss: 0.0106, learning rate 0.0001\n",
      "Mean epoch output:  [-0.04174886]\n",
      "Epoch [36/100], Loss: 0.0110, learning rate 0.0001\n",
      "Mean epoch output:  [-0.05673093]\n",
      "Epoch [37/100], Loss: 0.0097, learning rate 0.0001\n",
      "Mean epoch output:  [-0.06026707]\n",
      "Epoch [38/100], Loss: 0.0102, learning rate 0.0001\n",
      "Mean epoch output:  [0.03033313]\n",
      "Epoch [39/100], Loss: 0.0097, learning rate 0.0001\n",
      "Mean epoch output:  [0.03026859]\n",
      "Epoch [40/100], Loss: 0.0100, learning rate 0.0001\n",
      "Mean epoch output:  [0.05218818]\n",
      "Epoch [41/100], Loss: 0.0096, learning rate 0.0001\n",
      "Mean epoch output:  [0.04798527]\n",
      "Epoch [42/100], Loss: 0.0097, learning rate 0.0001\n",
      "Mean epoch output:  [0.03900195]\n",
      "Epoch [43/100], Loss: 0.0091, learning rate 0.0001\n",
      "Mean epoch output:  [-0.00230211]\n",
      "Epoch [44/100], Loss: 0.0093, learning rate 0.0001\n",
      "Mean epoch output:  [0.04496938]\n",
      "Epoch [45/100], Loss: 0.0095, learning rate 0.0001\n",
      "Mean epoch output:  [0.03030323]\n",
      "Epoch [46/100], Loss: 0.0082, learning rate 0.0001\n",
      "Mean epoch output:  [0.03919899]\n",
      "Epoch [47/100], Loss: 0.0091, learning rate 0.0001\n",
      "Mean epoch output:  [-0.00796813]\n",
      "Epoch [48/100], Loss: 0.0093, learning rate 0.0001\n",
      "Mean epoch output:  [0.05924983]\n",
      "Epoch [49/100], Loss: 0.0086, learning rate 0.0001\n",
      "Mean epoch output:  [0.0364161]\n",
      "Epoch [50/100], Loss: 0.0085, learning rate 0.0001\n",
      "Mean epoch output:  [0.03625016]\n",
      "Epoch [51/100], Loss: 0.0089, learning rate 0.0001\n",
      "Mean epoch output:  [0.03992208]\n",
      "Epoch [52/100], Loss: 0.0088, learning rate 0.0001\n",
      "Mean epoch output:  [0.08102059]\n",
      "Epoch [53/100], Loss: 0.0088, learning rate 0.0001\n",
      "Mean epoch output:  [-0.01800036]\n",
      "Epoch [54/100], Loss: 0.0090, learning rate 0.0001\n",
      "Mean epoch output:  [-0.01792593]\n",
      "Epoch [55/100], Loss: 0.0076, learning rate 0.0001\n",
      "Mean epoch output:  [-0.02339277]\n",
      "Epoch [56/100], Loss: 0.0087, learning rate 0.0001\n",
      "Mean epoch output:  [-0.00559196]\n",
      "Epoch [57/100], Loss: 0.0077, learning rate 0.0001\n",
      "Mean epoch output:  [-0.03505944]\n",
      "Epoch [58/100], Loss: 0.0079, learning rate 0.0001\n",
      "Mean epoch output:  [-0.00899737]\n",
      "Epoch [59/100], Loss: 0.0078, learning rate 0.0001\n",
      "Mean epoch output:  [0.06720395]\n",
      "Epoch [60/100], Loss: 0.0082, learning rate 0.0001\n",
      "Mean epoch output:  [0.04828772]\n",
      "Epoch [61/100], Loss: 0.0081, learning rate 0.0001\n",
      "Mean epoch output:  [0.03623779]\n",
      "Epoch [62/100], Loss: 0.0077, learning rate 0.0001\n",
      "Mean epoch output:  [0.09239235]\n",
      "Epoch [63/100], Loss: 0.0080, learning rate 0.0001\n",
      "Mean epoch output:  [0.06206682]\n",
      "Epoch [64/100], Loss: 0.0084, learning rate 0.0001\n",
      "Mean epoch output:  [0.0172525]\n",
      "Epoch [65/100], Loss: 0.0075, learning rate 0.0001\n",
      "Mean epoch output:  [0.03387531]\n",
      "Epoch [66/100], Loss: 0.0073, learning rate 0.0001\n",
      "Mean epoch output:  [0.03095236]\n",
      "Epoch [67/100], Loss: 0.0078, learning rate 0.0001\n",
      "Mean epoch output:  [-0.04554809]\n",
      "Epoch [68/100], Loss: 0.0075, learning rate 0.0001\n",
      "Mean epoch output:  [0.08129393]\n",
      "Epoch [69/100], Loss: 0.0069, learning rate 0.0001\n",
      "Mean epoch output:  [0.04677369]\n",
      "Epoch [70/100], Loss: 0.0073, learning rate 0.0001\n",
      "Mean epoch output:  [0.00192525]\n",
      "Epoch [71/100], Loss: 0.0068, learning rate 0.0001\n",
      "Mean epoch output:  [0.02250843]\n",
      "Epoch [72/100], Loss: 0.0072, learning rate 0.0001\n",
      "Mean epoch output:  [0.04885947]\n",
      "Epoch [73/100], Loss: 0.0076, learning rate 0.0001\n",
      "Mean epoch output:  [0.00845653]\n",
      "Epoch [74/100], Loss: 0.0072, learning rate 0.0001\n",
      "Mean epoch output:  [-0.02286199]\n",
      "Epoch [75/100], Loss: 0.0070, learning rate 0.0001\n",
      "Mean epoch output:  [0.01042167]\n",
      "Epoch [76/100], Loss: 0.0072, learning rate 0.0001\n",
      "Mean epoch output:  [-0.01729691]\n",
      "Epoch [77/100], Loss: 0.0072, learning rate 0.0001\n",
      "Mean epoch output:  [0.02853467]\n",
      "Epoch [78/100], Loss: 0.0069, learning rate 0.0001\n",
      "Mean epoch output:  [0.05397502]\n",
      "Epoch [79/100], Loss: 0.0065, learning rate 0.0001\n",
      "Mean epoch output:  [-0.01290605]\n",
      "Epoch [80/100], Loss: 0.0069, learning rate 0.0001\n",
      "Mean epoch output:  [0.07505565]\n",
      "Epoch [81/100], Loss: 0.0074, learning rate 0.0001\n",
      "Mean epoch output:  [-0.06855624]\n",
      "Epoch [82/100], Loss: 0.0070, learning rate 0.0001\n",
      "Mean epoch output:  [-0.04063767]\n",
      "Epoch [83/100], Loss: 0.0065, learning rate 0.0001\n",
      "Mean epoch output:  [-0.02077419]\n",
      "Epoch [84/100], Loss: 0.0069, learning rate 0.0001\n",
      "Mean epoch output:  [0.0357733]\n",
      "Epoch [85/100], Loss: 0.0065, learning rate 0.0001\n",
      "Mean epoch output:  [0.02604495]\n",
      "Epoch [86/100], Loss: 0.0063, learning rate 0.0001\n",
      "Mean epoch output:  [0.06789828]\n",
      "Epoch [87/100], Loss: 0.0068, learning rate 0.0001\n",
      "Mean epoch output:  [-0.00053078]\n",
      "Epoch [88/100], Loss: 0.0066, learning rate 0.0001\n",
      "Mean epoch output:  [0.04159494]\n",
      "Epoch [89/100], Loss: 0.0063, learning rate 0.0001\n",
      "Mean epoch output:  [0.01754884]\n",
      "Epoch [90/100], Loss: 0.0086, learning rate 0.0001\n",
      "Mean epoch output:  [0.02777458]\n",
      "Epoch [91/100], Loss: 0.0065, learning rate 0.0001\n",
      "Mean epoch output:  [-0.00316553]\n",
      "Epoch [92/100], Loss: 0.0061, learning rate 0.0001\n",
      "Mean epoch output:  [0.0339838]\n",
      "Epoch [93/100], Loss: 0.0065, learning rate 0.0001\n",
      "Mean epoch output:  [0.05808079]\n",
      "Epoch [94/100], Loss: 0.0059, learning rate 0.0001\n",
      "Mean epoch output:  [0.03245342]\n",
      "Epoch [95/100], Loss: 0.0063, learning rate 0.0001\n",
      "Mean epoch output:  [-0.02951844]\n",
      "Epoch [96/100], Loss: 0.0060, learning rate 0.0001\n",
      "Mean epoch output:  [-0.00401087]\n",
      "Epoch [97/100], Loss: 0.0064, learning rate 0.0001\n",
      "Mean epoch output:  [-0.00694372]\n",
      "Epoch [98/100], Loss: 0.0057, learning rate 0.0001\n",
      "Mean epoch output:  [0.01868681]\n",
      "Epoch [99/100], Loss: 0.0060, learning rate 0.0001\n",
      "Mean epoch output:  [0.03274706]\n",
      "Epoch [100/100], Loss: 0.0064, learning rate 0.0001\n",
      "Mean epoch output:  [-0.02699394]\n"
     ]
    }
   ],
   "source": [
    "#Reduce LR Scheduler\n",
    "scheduler = torch.optim.lr_scheduler.ReduceLROnPlateau(opt, 'min', factor = 0.7, patience = 2)\n",
    "\n",
    "for epoch in range(num_epochs):\n",
    "    model.train()  # Set the model to training mode\n",
    "    running_loss = 0.0\n",
    "    total_output = []\n",
    "    \n",
    "    \n",
    "    for batch_idx, (inputs, labels) in enumerate(trainer):\n",
    "        inputs = inputs.to(device)\n",
    "        labels = labels.to(device)\n",
    "        total_mae = 0.0\n",
    "        outputs = model(inputs).to(device)\n",
    "        \n",
    "        #print(\"Average label: \", sum(labels)/len(labels), \"average output: \",sum(outputs)/len(outputs))\n",
    "       \n",
    "        total_output.append(outputs.cpu().detach().numpy())\n",
    "        \n",
    "        loss = criterion(outputs, labels.float())\n",
    "                         \n",
    "        # Backward pass and optimization\n",
    "        opt.zero_grad()\n",
    "        loss.backward()\n",
    "        opt.step()\n",
    "        scheduler.step(running_loss)\n",
    "\n",
    "        # Accumulate loss\n",
    "        running_loss += loss.item()\n",
    "\n",
    "        # Calculate precision and accuracy\n",
    "        # Calculate MAE for this batch\n",
    "        batch_mae = torch.mean(torch.abs(outputs - labels)).item()\n",
    "        total_mae += batch_mae\n",
    "        \n",
    "    # Calculate average loss and accuracy for the epoch\n",
    "    epoch_loss = running_loss / len(trainer)\n",
    "    lossVec[epoch] = epoch_loss\n",
    "    \n",
    "    print(f'Epoch [{epoch+1}/{num_epochs}], Loss: {epoch_loss:.4f}, learning rate {learning_rate}')\n",
    "    \n",
    "    mean_epoch_output = sum(outputs.cpu().detach().numpy()) / len(outputs.cpu().detach().numpy())\n",
    "    print(\"Mean epoch output: \",mean_epoch_output)\n",
    "    \n",
    "total_output = np.concatenate(total_output)"
   ]
  },
  {
   "cell_type": "code",
   "execution_count": 13,
   "id": "6d141ece",
   "metadata": {
    "execution": {
     "iopub.execute_input": "2024-09-11T23:51:45.742485Z",
     "iopub.status.busy": "2024-09-11T23:51:45.742160Z",
     "iopub.status.idle": "2024-09-11T23:51:46.015858Z",
     "shell.execute_reply": "2024-09-11T23:51:46.014778Z"
    },
    "papermill": {
     "duration": 0.2896,
     "end_time": "2024-09-11T23:51:46.017832",
     "exception": false,
     "start_time": "2024-09-11T23:51:45.728232",
     "status": "completed"
    },
    "tags": []
   },
   "outputs": [
    {
     "data": {
      "text/plain": [
       "[<matplotlib.lines.Line2D at 0x7f1d6e79f5b0>]"
      ]
     },
     "execution_count": 13,
     "metadata": {},
     "output_type": "execute_result"
    },
    {
     "data": {
      "image/png": "[encoded data removed]",
      "text/plain": [
       "<Figure size 640x480 with 1 Axes>"
      ]
     },
     "metadata": {},
     "output_type": "display_data"
    }
   ],
   "source": [
    "# plot loss\n",
    "import matplotlib.pyplot as plt\n",
    "epochVec = np.arange(1,num_epochs+1)\n",
    "\n",
    "plt.plot(epochVec, lossVec,'o-')"
   ]
  }
 ],
 "metadata": {
  "kaggle": {
   "accelerator": "nvidiaTeslaT4",
   "dataSources": [
    {
     "databundleVersionId": 9057646,
     "sourceId": 76728,
     "sourceType": "competition"
    }
   ],
   "dockerImageVersionId": 30761,
   "isGpuEnabled": true,
   "isInternetEnabled": true,
   "language": "python",
   "sourceType": "notebook"
  },
  "kernelspec": {
   "display_name": "Python 3",
   "language": "python",
   "name": "python3"
  },
  "language_info": {
   "codemirror_mode": {
    "name": "ipython",
    "version": 3
   },
   "file_extension": ".py",
   "mimetype": "text/x-python",
   "name": "python",
   "nbconvert_exporter": "python",
   "pygments_lexer": "ipython3",
   "version": "3.10.14"
  },
  "papermill": {
   "default_parameters": {},
   "duration": 453.545655,
   "end_time": "2024-09-11T23:51:47.453222",
   "environment_variables": {},
   "exception": null,
   "input_path": "__notebook__.ipynb",
   "output_path": "__notebook__.ipynb",
   "parameters": {},
   "start_time": "2024-09-11T23:44:13.907567",
   "version": "2.6.0"
  }
 },
 "nbformat": 4,
 "nbformat_minor": 5
}
