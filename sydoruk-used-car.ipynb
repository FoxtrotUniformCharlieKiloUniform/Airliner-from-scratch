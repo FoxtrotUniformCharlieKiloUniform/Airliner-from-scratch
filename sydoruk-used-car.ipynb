{
 "cells": [
  {
   "cell_type": "code",
   "execution_count": 1,
   "id": "f20ecea8",
   "metadata": {
    "_cell_guid": "b1076dfc-b9ad-4769-8c92-a6c4dae69d19",
    "_uuid": "8f2839f25d086af736a60e9eeb907d3b93b6e0e5",
    "execution": {
     "iopub.execute_input": "2024-09-12T00:31:05.396905Z",
     "iopub.status.busy": "2024-09-12T00:31:05.396466Z",
     "iopub.status.idle": "2024-09-12T00:31:11.380604Z",
     "shell.execute_reply": "2024-09-12T00:31:11.379352Z"
    },
    "papermill": {
     "duration": 5.993395,
     "end_time": "2024-09-12T00:31:11.383359",
     "exception": false,
     "start_time": "2024-09-12T00:31:05.389964",
     "status": "completed"
    },
    "tags": []
   },
   "outputs": [
    {
     "name": "stdout",
     "output_type": "stream",
     "text": [
      "Table names:  sample_submission.csv\n",
      "Table names:  train.csv\n",
      "Table names:  test.csv\n"
     ]
    }
   ],
   "source": [
    "# This Python 3 environment comes with many helpful analytics libraries installed\n",
    "# It is defined by the kaggle/python Docker image: https://github.com/kaggle/docker-python\n",
    "# For example, here's several helpful packages to load\n",
    "\n",
    "import numpy as np # linear algebra\n",
    "import pandas as pd # data processing, CSV file I/O (e.g. pd.read_csv)\n",
    "import torch \n",
    "import torch.nn.functional as F\n",
    "import torch.optim as optim\n",
    "from torch.utils.data import Dataset, DataLoader\n",
    "from sklearn import preprocessing \n",
    "import torch.nn as nn\n",
    "import torch.utils.data\n",
    "label_encoder = preprocessing.LabelEncoder()\n",
    "\n",
    "# Input data files are available in the read-only \"../input/\" directory\n",
    "# For example, running this (by clicking run or pressing Shift+Enter) will list all files under the input directory\n",
    "\n",
    "import os\n",
    "for dirname, _, filenames in os.walk('/kaggle/input'):\n",
    "    for filename in filenames:\n",
    "        print(\"Table names: \", filename)\n",
    "        fullPath = os.path.join(dirname, filename)\n",
    "        \n",
    "        \n",
    "        if filename == \"train.csv\":\n",
    "            trainDS = pd.read_csv(fullPath)\n",
    "            trainDS = trainDS[1:1000]\n",
    "        if filename == \"test.csv\":\n",
    "            testDS = pd.read_csv(fullPath)\n",
    "        \n",
    "        \n",
    "# You can write up to 20GB to the current directory (/kaggle/working/) that gets preserved as output when you create a version using \"Save & Run All\" \n",
    "# You can also write temporary files to /kaggle/temp/, but they won't be saved outside of the current session"
   ]
  },
  {
   "cell_type": "code",
   "execution_count": 2,
   "id": "71106847",
   "metadata": {
    "execution": {
     "iopub.execute_input": "2024-09-12T00:31:11.394267Z",
     "iopub.status.busy": "2024-09-12T00:31:11.393811Z",
     "iopub.status.idle": "2024-09-12T00:31:11.401421Z",
     "shell.execute_reply": "2024-09-12T00:31:11.399844Z"
    },
    "papermill": {
     "duration": 0.015851,
     "end_time": "2024-09-12T00:31:11.403883",
     "exception": false,
     "start_time": "2024-09-12T00:31:11.388032",
     "status": "completed"
    },
    "tags": []
   },
   "outputs": [
    {
     "name": "stdout",
     "output_type": "stream",
     "text": [
      "Using CPU\n"
     ]
    }
   ],
   "source": [
    "## using hardware accelerators\n",
    "if torch.cuda.is_available():\n",
    "    device = torch.device('cuda')\n",
    "    print(\"Using GPU: \", torch.cuda.get_device_name(0))\n",
    "elif 'XLA_USE_BF16' in os.environ:  # This is how TPUs are usually detected in Kaggle\n",
    "    import torch_xla.core.xla_model as xm\n",
    "    device = xm.xla_device()\n",
    "    print(\"Using TPU\")\n",
    "else:\n",
    "    device = torch.device('cpu')\n",
    "    print(\"Using CPU\")"
   ]
  },
  {
   "cell_type": "code",
   "execution_count": 3,
   "id": "bac87722",
   "metadata": {
    "execution": {
     "iopub.execute_input": "2024-09-12T00:31:11.414421Z",
     "iopub.status.busy": "2024-09-12T00:31:11.413981Z",
     "iopub.status.idle": "2024-09-12T00:31:11.431602Z",
     "shell.execute_reply": "2024-09-12T00:31:11.430177Z"
    },
    "papermill": {
     "duration": 0.025858,
     "end_time": "2024-09-12T00:31:11.434203",
     "exception": false,
     "start_time": "2024-09-12T00:31:11.408345",
     "status": "completed"
    },
    "tags": []
   },
   "outputs": [
    {
     "name": "stdout",
     "output_type": "stream",
     "text": [
      "   id    brand  model  model_year  milage fuel_type  \\\n",
      "1   1  Lincoln  LS V8        2002  143250  Gasoline   \n",
      "\n",
      "                                         engine transmission ext_col int_col  \\\n",
      "1  252.0HP 3.9L 8 Cylinder Engine Gasoline Fuel          A/T  Silver   Beige   \n",
      "\n",
      "                                 accident clean_title  price  \n",
      "1  At least 1 accident or damage reported         Yes   4999  \n"
     ]
    }
   ],
   "source": [
    "## The plan\n",
    "#Split up engine type into the following columns\n",
    "#HP, engine size (without the Liter), cylinder number (sometimes says X cylinder, sometimes VX or IX),fuel type\n",
    "\n",
    "#encode brand, model, fuel_type, ext_col, int_col, accident, clean_title\n",
    "\n",
    "#label is obviously price\n",
    "print(trainDS.head(1))"
   ]
  },
  {
   "cell_type": "code",
   "execution_count": 4,
   "id": "a8bfb7c4",
   "metadata": {
    "execution": {
     "iopub.execute_input": "2024-09-12T00:31:11.444933Z",
     "iopub.status.busy": "2024-09-12T00:31:11.444488Z",
     "iopub.status.idle": "2024-09-12T00:31:11.455127Z",
     "shell.execute_reply": "2024-09-12T00:31:11.454012Z"
    },
    "papermill": {
     "duration": 0.01892,
     "end_time": "2024-09-12T00:31:11.457701",
     "exception": false,
     "start_time": "2024-09-12T00:31:11.438781",
     "status": "completed"
    },
    "tags": []
   },
   "outputs": [
    {
     "data": {
      "text/plain": [
       "'## Data preprocessing block (from above plan)\\n#print(trainDS.head(20))\\nprint(trainDS[\"engine\"].value_counts())\\nprint(len(trainDS) - trainDS[\\'engine\\'].str.contains(\"HP\").sum())\\nprint(trainDS[\\'engine\\'].str.contains(\"HP\").sum())\\n\\nunique_non_occurrences = trainDS[~trainDS[\\'engine\\'].str.contains(\\'HP\\')][\\'engine\\'].unique()\\nprint(unique_non_occurrences)'"
      ]
     },
     "execution_count": 4,
     "metadata": {},
     "output_type": "execute_result"
    }
   ],
   "source": [
    "#Taking a look at what engines have HP in them or not\n",
    "'''## Data preprocessing block (from above plan)\n",
    "#print(trainDS.head(20))\n",
    "print(trainDS[\"engine\"].value_counts())\n",
    "print(len(trainDS) - trainDS['engine'].str.contains(\"HP\").sum())\n",
    "print(trainDS['engine'].str.contains(\"HP\").sum())\n",
    "\n",
    "unique_non_occurrences = trainDS[~trainDS['engine'].str.contains('HP')]['engine'].unique()\n",
    "print(unique_non_occurrences)'''"
   ]
  },
  {
   "cell_type": "code",
   "execution_count": 5,
   "id": "a48aaec7",
   "metadata": {
    "execution": {
     "iopub.execute_input": "2024-09-12T00:31:11.469446Z",
     "iopub.status.busy": "2024-09-12T00:31:11.468970Z",
     "iopub.status.idle": "2024-09-12T00:31:11.479791Z",
     "shell.execute_reply": "2024-09-12T00:31:11.478559Z"
    },
    "papermill": {
     "duration": 0.019557,
     "end_time": "2024-09-12T00:31:11.482403",
     "exception": false,
     "start_time": "2024-09-12T00:31:11.462846",
     "status": "completed"
    },
    "tags": []
   },
   "outputs": [],
   "source": [
    "def preprocess(df):\n",
    "    # Ensure the input is a DataFrame\n",
    "    if not isinstance(df, pd.DataFrame):\n",
    "        print(\"Variable is not a dataframe.\")\n",
    "        raise SystemExit(\"Stopping execution due to incorrect input.\")\n",
    "\n",
    "    # Check if 'engine' column exists\n",
    "    columnSet = [\"engine\"]\n",
    "    if set(columnSet).issubset(df.columns):\n",
    "        print(\"'engine' column found, processing...\")\n",
    "        \n",
    "        # Split the 'engine' column\n",
    "        try:\n",
    "            columnAdditions = df[\"engine\"].str.split('HP', expand=True)\n",
    "            intermVar = columnAdditions[1].str.split(\"L\", expand=True)\n",
    "            columnAdditions = pd.concat([columnAdditions, intermVar], axis=1)\n",
    "\n",
    "            # Cleanup column names\n",
    "            columnAdditions.columns = [0, 1, 2, 3]  # Give temporary names\n",
    "            columnAdditions = columnAdditions.rename(columns={0: \"HP\", 2: \"engine_size\"})\n",
    "            columnAdditions = columnAdditions.drop([1, 3], axis=1)  # Drop unnecessary columns\n",
    "\n",
    "            # Convert to numeric values\n",
    "            columnAdditions[\"HP\"] = pd.to_numeric(columnAdditions[\"HP\"], errors='coerce')\n",
    "            columnAdditions[\"engine_size\"] = pd.to_numeric(columnAdditions[\"engine_size\"], errors='coerce')\n",
    "\n",
    "            # Merge back with the original DataFrame\n",
    "            newdf = pd.concat([df, columnAdditions], axis=1)\n",
    "            newdf = newdf.drop(\"engine\", axis=1)  # Drop the original 'engine' column\n",
    "\n",
    "            print(\"Processing complete. Returning new DataFrame.\")\n",
    "            return newdf\n",
    "\n",
    "        except KeyError as e:\n",
    "            print(f\"KeyError: {e} - One of the expected columns is missing.\")\n",
    "        except Exception as e:\n",
    "            print(f\"An error occurred: {e}\")\n",
    "\n",
    "    else:\n",
    "        print(\"'engine' column is not in the DataFrame (it might have already been processed).\")\n",
    "        return df  # Return the original DataFrame if no processing was done\n"
   ]
  },
  {
   "cell_type": "code",
   "execution_count": 6,
   "id": "ee7e2071",
   "metadata": {
    "execution": {
     "iopub.execute_input": "2024-09-12T00:31:11.493474Z",
     "iopub.status.busy": "2024-09-12T00:31:11.493034Z",
     "iopub.status.idle": "2024-09-12T00:31:11.499899Z",
     "shell.execute_reply": "2024-09-12T00:31:11.498723Z"
    },
    "papermill": {
     "duration": 0.015256,
     "end_time": "2024-09-12T00:31:11.502384",
     "exception": false,
     "start_time": "2024-09-12T00:31:11.487128",
     "status": "completed"
    },
    "tags": []
   },
   "outputs": [],
   "source": [
    "def encodeData(df, columnSet):\n",
    "    #make sure ds is dataframe\n",
    "    if isinstance(df, pd.DataFrame):\n",
    "        pass\n",
    "    else:\n",
    "        print(\"Variable is not dataframe\")\n",
    "        #raise SystemExit(\"Stop right there!\")\n",
    "       \n",
    "    #make sure column names are all valid \n",
    "    if set(columnSet).issubset(df.columns):\n",
    "        pass\n",
    "    else:\n",
    "        print(\"Col list invalid\")\n",
    "        #raise SystemExit(\"Stop right there!\")\n",
    "    \n",
    "    #encode all specified columns\n",
    "    for column in columnSet:\n",
    "        df[column] = label_encoder.fit_transform(df[column])\n",
    "    \n",
    "    return df"
   ]
  },
  {
   "cell_type": "code",
   "execution_count": 7,
   "id": "ba070fd9",
   "metadata": {
    "execution": {
     "iopub.execute_input": "2024-09-12T00:31:11.513669Z",
     "iopub.status.busy": "2024-09-12T00:31:11.513205Z",
     "iopub.status.idle": "2024-09-12T00:31:11.560454Z",
     "shell.execute_reply": "2024-09-12T00:31:11.559084Z"
    },
    "papermill": {
     "duration": 0.055721,
     "end_time": "2024-09-12T00:31:11.562840",
     "exception": false,
     "start_time": "2024-09-12T00:31:11.507119",
     "status": "completed"
    },
    "tags": []
   },
   "outputs": [
    {
     "name": "stdout",
     "output_type": "stream",
     "text": [
      "'engine' column found, processing...\n",
      "Processing complete. Returning new DataFrame.\n"
     ]
    }
   ],
   "source": [
    "#load and process data\n",
    "batch_size = 32\n",
    "\n",
    "class carDataset(torch.utils.data.Dataset):\n",
    "    def __init__(self, df):\n",
    "        self.df = df\n",
    "        \n",
    "        #call engine preprocess method to preprocess the engines (split into HP and engine size)\n",
    "        self.df = preprocess(self.df)\n",
    "        self.df = encodeData(self.df, [\"model\", \"brand\", \"fuel_type\", \"transmission\", \"ext_col\", \"int_col\", \"accident\", \"clean_title\"])\n",
    "        \n",
    "        self.df = self.df.replace(np.nan,0)\n",
    "        \n",
    "        self.labels = self.df[[\"price\"]]   #y is just the price (this for )\n",
    "        self.labels=( self.labels- self.labels.min())/( self.labels.max()- self.labels.min())\n",
    "        \n",
    "        self.features = self.df.drop([\"price\"], axis = 1)  #x is dataframe with price column dropped \n",
    "        self.features = (self.features - self.features.mean())/self.features.std() \n",
    "            \n",
    "    def __getitem__(self, idx):\n",
    "        # Convert the features and labels to PyTorch tensors\n",
    "        features_tensor = torch.tensor(self.features.iloc[idx], dtype=torch.float32).to(device)\n",
    "        labels_tensor = torch.tensor(self.labels.iloc[idx], dtype=torch.float32).to(device)\n",
    "        \n",
    "        return features_tensor, labels_tensor\n",
    " \n",
    "    \n",
    "    def __len__(self):\n",
    "        return len(self.features)\n",
    "    \n",
    "carDataset = carDataset(trainDS)\n",
    "trainer = DataLoader(carDataset, batch_size = batch_size, shuffle = True)"
   ]
  },
  {
   "cell_type": "code",
   "execution_count": 8,
   "id": "62f47f9a",
   "metadata": {
    "execution": {
     "iopub.execute_input": "2024-09-12T00:31:11.574545Z",
     "iopub.status.busy": "2024-09-12T00:31:11.573678Z",
     "iopub.status.idle": "2024-09-12T00:31:11.583202Z",
     "shell.execute_reply": "2024-09-12T00:31:11.582052Z"
    },
    "papermill": {
     "duration": 0.017851,
     "end_time": "2024-09-12T00:31:11.585454",
     "exception": false,
     "start_time": "2024-09-12T00:31:11.567603",
     "status": "completed"
    },
    "tags": []
   },
   "outputs": [],
   "source": [
    "#load and process data\n",
    "batch_size = 32\n",
    "\n",
    "class carDataset(torch.utils.data.Dataset):\n",
    "    def __init__(self, df):\n",
    "        self.df = df\n",
    "        \n",
    "        #call engine preprocess method to preprocess the engines (split into HP and engine size)\n",
    "        self.df = preprocess(self.df)\n",
    "        self.df = encodeData(self.df, [\"model\", \"brand\", \"fuel_type\", \"transmission\", \"ext_col\", \"int_col\", \"accident\", \"clean_title\"])\n",
    "        \n",
    "        self.df = self.df.replace(np.nan,0)\n",
    "        \n",
    "        self.labels = self.df[[\"price\"]]   #y is just the price (this for )\n",
    "        self.features = self.df.drop([\"price\"], axis = 1)  #x is dataframe with price column dropped\n",
    "        print(self.features)\n",
    "        \n",
    "        self.features = (self.features - self.features.mean())/self.features.std() \n",
    "            \n",
    "    def __getitem__(self, idx):\n",
    "        # Convert the features and labels to PyTorch tensors\n",
    "        features_tensor = torch.tensor(self.features.iloc[idx], dtype=torch.float32).to(device)\n",
    "        labels_tensor = torch.tensor(self.labels.iloc[idx], dtype=torch.float32).to(device)\n",
    "        \n",
    "        return features_tensor, labels_tensor\n",
    " \n",
    "    \n",
    "    def __len__(self):\n",
    "        return len(self.features)"
   ]
  },
  {
   "cell_type": "code",
   "execution_count": 9,
   "id": "4eda50c8",
   "metadata": {
    "execution": {
     "iopub.execute_input": "2024-09-12T00:31:11.598131Z",
     "iopub.status.busy": "2024-09-12T00:31:11.597125Z",
     "iopub.status.idle": "2024-09-12T00:31:11.604566Z",
     "shell.execute_reply": "2024-09-12T00:31:11.603446Z"
    },
    "papermill": {
     "duration": 0.016836,
     "end_time": "2024-09-12T00:31:11.606961",
     "exception": false,
     "start_time": "2024-09-12T00:31:11.590125",
     "status": "completed"
    },
    "tags": []
   },
   "outputs": [
    {
     "data": {
      "text/plain": [
       "'#initial random trees \\n\\nimport ydf\\nlearner = ydf.GradientBoostedTreesLearner(\\n    num_trees=15,\\n    label=\"price\",\\n    min_examples = 3,\\n    random_seed = 1,\\n)\\n\\ntrainDS = encodeData(preprocess(trainDS), [\"model\", \"brand\", \"fuel_type\", \"transmission\", \"ext_col\", \"int_col\", \"accident\", \"clean_title\"])\\n#print(trainDS.head)\\nmodel = learner.train(trainDS)\\ntestDS = encodeData(preprocess(testDS), [\"model\", \"brand\", \"fuel_type\", \"transmission\", \"ext_col\", \"int_col\", \"accident\", \"clean_title\"])\\npredict = model.predict(testDS)\\nmodel.describe()'"
      ]
     },
     "execution_count": 9,
     "metadata": {},
     "output_type": "execute_result"
    }
   ],
   "source": [
    "'''#initial random trees \n",
    "\n",
    "import ydf\n",
    "learner = ydf.GradientBoostedTreesLearner(\n",
    "    num_trees=15,\n",
    "    label=\"price\",\n",
    "    min_examples = 3,\n",
    "    random_seed = 1,\n",
    ")\n",
    "\n",
    "trainDS = encodeData(preprocess(trainDS), [\"model\", \"brand\", \"fuel_type\", \"transmission\", \"ext_col\", \"int_col\", \"accident\", \"clean_title\"])\n",
    "#print(trainDS.head)\n",
    "model = learner.train(trainDS)\n",
    "testDS = encodeData(preprocess(testDS), [\"model\", \"brand\", \"fuel_type\", \"transmission\", \"ext_col\", \"int_col\", \"accident\", \"clean_title\"])\n",
    "predict = model.predict(testDS)\n",
    "model.describe()'''"
   ]
  },
  {
   "cell_type": "code",
   "execution_count": 10,
   "id": "8269931d",
   "metadata": {
    "execution": {
     "iopub.execute_input": "2024-09-12T00:31:11.619284Z",
     "iopub.status.busy": "2024-09-12T00:31:11.618834Z",
     "iopub.status.idle": "2024-09-12T00:31:11.630054Z",
     "shell.execute_reply": "2024-09-12T00:31:11.628767Z"
    },
    "papermill": {
     "duration": 0.020725,
     "end_time": "2024-09-12T00:31:11.632704",
     "exception": false,
     "start_time": "2024-09-12T00:31:11.611979",
     "status": "completed"
    },
    "tags": []
   },
   "outputs": [],
   "source": [
    "seed = 0\n",
    "torch.manual_seed(seed)\n",
    "if torch.cuda.is_available():\n",
    "    torch.cuda.manual_seed_all(seed)"
   ]
  },
  {
   "cell_type": "code",
   "execution_count": 11,
   "id": "b3c43e57",
   "metadata": {
    "execution": {
     "iopub.execute_input": "2024-09-12T00:31:11.645117Z",
     "iopub.status.busy": "2024-09-12T00:31:11.644046Z",
     "iopub.status.idle": "2024-09-12T00:31:20.449598Z",
     "shell.execute_reply": "2024-09-12T00:31:20.448332Z"
    },
    "papermill": {
     "duration": 8.814675,
     "end_time": "2024-09-12T00:31:20.452299",
     "exception": false,
     "start_time": "2024-09-12T00:31:11.637624",
     "status": "completed"
    },
    "tags": []
   },
   "outputs": [],
   "source": [
    "n = 60\n",
    "\n",
    "class usedCarModel(nn.Module):\n",
    "    def __init__(self, input_size, batch_size):\n",
    "        super(usedCarModel, self).__init__()\n",
    "        self.input_size = input_size\n",
    "        self.batch_size = batch_size\n",
    "        \n",
    "        # Define the layers\n",
    "        self.fc1 = nn.Linear(input_size, n*512)  # First hidden layer\n",
    "        self.bn1 = nn.BatchNorm1d(n*512)         # Batch Normalization for first hidden layer\n",
    "        self.fc2 = nn.Linear(n*512,n*256)        # Second hidden layer\n",
    "        self.bn2 = nn.BatchNorm1d(256*n)         # Batch Normalization for second hidden layer\n",
    "        self.fc3 = nn.Linear(256*n, 128*n)       # Third hidden layer\n",
    "        self.bn3 = nn.BatchNorm1d(128*n)         # Batch Normalization for third hidden layer\n",
    "        self.fc4 = nn.Linear(128*n, 64*n)        # Fourth hidden layer\n",
    "        self.fc5 = nn.Linear(64*n, 1)            # Output layer\n",
    "        \n",
    "        # Activation function\n",
    "        self.relu = nn.ReLU()\n",
    "        # Dropout for regularization\n",
    "        self.dropout = nn.Dropout(p=0.3)\n",
    "\n",
    "    def forward(self, x):\n",
    "        # Forward pass\n",
    "        x = x.to(device)\n",
    "        x = self.relu(self.bn1(self.fc1(x)))  # First layer + BatchNorm + activation\n",
    "        x = self.dropout(x)                   # Dropout layer\n",
    "        x = self.relu(self.bn2(self.fc2(x)))  # Second layer + BatchNorm + activation\n",
    "        x = self.dropout(x)                   # Dropout layer\n",
    "        x = self.relu(self.bn3(self.fc3(x)))  # Third layer + BatchNorm + activation\n",
    "        x = self.relu(self.fc4(x))            # Fourth layer + activation\n",
    "        x = self.fc5(x)                       # Output layer\n",
    "        return x\n",
    "\n",
    "\n",
    "#model / hyperparameter definitions\n",
    "num_epochs = 100\n",
    "learning_rate = 0.0001\n",
    "input_size = trainDS.shape[1]\n",
    "model = usedCarModel(input_size, batch_size)\n",
    "model = model.to(device)\n",
    "criterion = nn.MSELoss()\n",
    "opt = optim.Adam(model.parameters(), lr = learning_rate)\n",
    "\n",
    "lossVec = np.zeros(num_epochs)\n",
    "\n",
    "accuracyVec = np.zeros(num_epochs)"
   ]
  },
  {
   "cell_type": "code",
   "execution_count": 12,
   "id": "33ad3acb",
   "metadata": {
    "execution": {
     "iopub.execute_input": "2024-09-12T00:31:20.464366Z",
     "iopub.status.busy": "2024-09-12T00:31:20.463414Z",
     "iopub.status.idle": "2024-09-12T05:30:49.354807Z",
     "shell.execute_reply": "2024-09-12T05:30:49.353680Z"
    },
    "papermill": {
     "duration": 17968.910757,
     "end_time": "2024-09-12T05:30:49.367935",
     "exception": false,
     "start_time": "2024-09-12T00:31:20.457178",
     "status": "completed"
    },
    "tags": []
   },
   "outputs": [
    {
     "name": "stderr",
     "output_type": "stream",
     "text": [
      "/tmp/ipykernel_16/4091963302.py:22: FutureWarning: Series.__getitem__ treating keys as positions is deprecated. In a future version, integer keys will always be treated as labels (consistent with DataFrame behavior). To access a value by position, use `ser.iloc[pos]`\n",
      "  features_tensor = torch.tensor(self.features.iloc[idx], dtype=torch.float32).to(device)\n",
      "/tmp/ipykernel_16/4091963302.py:23: FutureWarning: Series.__getitem__ treating keys as positions is deprecated. In a future version, integer keys will always be treated as labels (consistent with DataFrame behavior). To access a value by position, use `ser.iloc[pos]`\n",
      "  labels_tensor = torch.tensor(self.labels.iloc[idx], dtype=torch.float32).to(device)\n"
     ]
    },
    {
     "name": "stdout",
     "output_type": "stream",
     "text": [
      "Epoch [1/100], Loss: 1.1795, MAE: 19.2530, Learning Rate: 0.0001\n",
      "Mean epoch output:  [-0.04859146]\n",
      "Epoch [2/100], Loss: 0.0303, MAE: 4.3515, Learning Rate: 0.0001\n",
      "Mean epoch output:  [-0.0050769]\n",
      "Epoch [3/100], Loss: 0.0264, MAE: 4.0608, Learning Rate: 0.0001\n",
      "Mean epoch output:  [0.01433583]\n",
      "Epoch [4/100], Loss: 0.0273, MAE: 4.1121, Learning Rate: 0.0001\n",
      "Mean epoch output:  [0.01292081]\n",
      "Epoch [5/100], Loss: 0.0255, MAE: 3.9611, Learning Rate: 0.0001\n",
      "Mean epoch output:  [-0.01407153]\n",
      "Epoch [6/100], Loss: 0.0256, MAE: 4.0031, Learning Rate: 0.0001\n",
      "Mean epoch output:  [-0.04590573]\n",
      "Epoch [7/100], Loss: 0.0248, MAE: 3.9194, Learning Rate: 0.0001\n",
      "Mean epoch output:  [-0.01116]\n",
      "Epoch [8/100], Loss: 0.0237, MAE: 3.8732, Learning Rate: 0.0001\n",
      "Mean epoch output:  [0.019596]\n",
      "Epoch [9/100], Loss: 0.0240, MAE: 3.9431, Learning Rate: 0.0001\n",
      "Mean epoch output:  [-0.0177736]\n",
      "Epoch [10/100], Loss: 0.0238, MAE: 3.8636, Learning Rate: 0.0001\n",
      "Mean epoch output:  [-0.02574269]\n",
      "Epoch [11/100], Loss: 0.0212, MAE: 3.6600, Learning Rate: 0.0001\n",
      "Mean epoch output:  [0.02965224]\n",
      "Epoch [12/100], Loss: 0.0212, MAE: 3.6368, Learning Rate: 0.0001\n",
      "Mean epoch output:  [0.01587007]\n",
      "Epoch [13/100], Loss: 0.0207, MAE: 3.6534, Learning Rate: 0.0001\n",
      "Mean epoch output:  [-0.03529857]\n",
      "Epoch [14/100], Loss: 0.0197, MAE: 3.5211, Learning Rate: 0.0001\n",
      "Mean epoch output:  [-0.03934566]\n",
      "Epoch [15/100], Loss: 0.0191, MAE: 3.4607, Learning Rate: 0.0001\n",
      "Mean epoch output:  [0.03161104]\n",
      "Epoch [16/100], Loss: 0.0192, MAE: 3.4339, Learning Rate: 0.0001\n",
      "Mean epoch output:  [-0.01355156]\n",
      "Epoch [17/100], Loss: 0.0173, MAE: 3.3438, Learning Rate: 0.0001\n",
      "Mean epoch output:  [-0.02941598]\n",
      "Epoch [18/100], Loss: 0.0174, MAE: 3.3308, Learning Rate: 0.0001\n",
      "Mean epoch output:  [-0.00888493]\n",
      "Epoch [19/100], Loss: 0.0170, MAE: 3.2654, Learning Rate: 0.0001\n",
      "Mean epoch output:  [-0.03850115]\n",
      "Epoch [20/100], Loss: 0.0160, MAE: 3.1739, Learning Rate: 0.0001\n",
      "Mean epoch output:  [-0.01488401]\n",
      "Epoch [21/100], Loss: 0.0162, MAE: 3.2215, Learning Rate: 0.0001\n",
      "Mean epoch output:  [0.01495174]\n",
      "Epoch [22/100], Loss: 0.0150, MAE: 3.0992, Learning Rate: 0.0001\n",
      "Mean epoch output:  [0.01436151]\n",
      "Epoch [23/100], Loss: 0.0148, MAE: 3.0753, Learning Rate: 0.0001\n",
      "Mean epoch output:  [0.03099452]\n",
      "Epoch [24/100], Loss: 0.0153, MAE: 3.0352, Learning Rate: 0.0001\n",
      "Mean epoch output:  [0.0248018]\n",
      "Epoch [25/100], Loss: 0.0142, MAE: 3.0264, Learning Rate: 0.0001\n",
      "Mean epoch output:  [0.02715703]\n",
      "Epoch [26/100], Loss: 0.0139, MAE: 2.9766, Learning Rate: 0.0001\n",
      "Mean epoch output:  [0.03491646]\n",
      "Epoch [27/100], Loss: 0.0130, MAE: 2.8369, Learning Rate: 0.0001\n",
      "Mean epoch output:  [-0.01336985]\n",
      "Epoch [28/100], Loss: 0.0125, MAE: 2.7916, Learning Rate: 0.0001\n",
      "Mean epoch output:  [0.05869227]\n",
      "Epoch [29/100], Loss: 0.0130, MAE: 2.8214, Learning Rate: 0.0001\n",
      "Mean epoch output:  [0.06298546]\n",
      "Epoch [30/100], Loss: 0.0119, MAE: 2.7453, Learning Rate: 0.0001\n",
      "Mean epoch output:  [0.01427793]\n",
      "Epoch [31/100], Loss: 0.0121, MAE: 2.7195, Learning Rate: 0.0001\n",
      "Mean epoch output:  [-0.01383924]\n",
      "Epoch [32/100], Loss: 0.0112, MAE: 2.6168, Learning Rate: 0.0001\n",
      "Mean epoch output:  [0.06296308]\n",
      "Epoch [33/100], Loss: 0.0117, MAE: 2.6628, Learning Rate: 0.0001\n",
      "Mean epoch output:  [0.01790738]\n",
      "Epoch [34/100], Loss: 0.0113, MAE: 2.6446, Learning Rate: 0.0001\n",
      "Mean epoch output:  [0.02312372]\n",
      "Epoch [35/100], Loss: 0.0107, MAE: 2.5895, Learning Rate: 0.0001\n",
      "Mean epoch output:  [-0.00424599]\n",
      "Epoch [36/100], Loss: 0.0099, MAE: 2.4200, Learning Rate: 0.0001\n",
      "Mean epoch output:  [0.05301224]\n",
      "Epoch [37/100], Loss: 0.0098, MAE: 2.4635, Learning Rate: 0.0001\n",
      "Mean epoch output:  [0.03028236]\n",
      "Epoch [38/100], Loss: 0.0100, MAE: 2.5053, Learning Rate: 0.0001\n",
      "Mean epoch output:  [0.0498675]\n",
      "Epoch [39/100], Loss: 0.0098, MAE: 2.4148, Learning Rate: 0.0001\n",
      "Mean epoch output:  [0.05157737]\n",
      "Epoch [40/100], Loss: 0.0096, MAE: 2.4278, Learning Rate: 0.0001\n",
      "Mean epoch output:  [0.03070257]\n",
      "Epoch [41/100], Loss: 0.0093, MAE: 2.3588, Learning Rate: 0.0001\n",
      "Mean epoch output:  [-0.00457353]\n",
      "Epoch [42/100], Loss: 0.0088, MAE: 2.2536, Learning Rate: 0.0001\n",
      "Mean epoch output:  [0.00049762]\n",
      "Epoch [43/100], Loss: 0.0080, MAE: 2.2101, Learning Rate: 0.0001\n",
      "Mean epoch output:  [0.03253132]\n",
      "Epoch [44/100], Loss: 0.0089, MAE: 2.3425, Learning Rate: 0.0001\n",
      "Mean epoch output:  [-0.00550182]\n",
      "Epoch [45/100], Loss: 0.0086, MAE: 2.2501, Learning Rate: 0.0001\n",
      "Mean epoch output:  [0.01547041]\n",
      "Epoch [46/100], Loss: 0.0077, MAE: 2.1589, Learning Rate: 0.0001\n",
      "Mean epoch output:  [0.00136388]\n",
      "Epoch [47/100], Loss: 0.0075, MAE: 2.1157, Learning Rate: 0.0001\n",
      "Mean epoch output:  [-0.0165483]\n",
      "Epoch [48/100], Loss: 0.0080, MAE: 2.1382, Learning Rate: 0.0001\n",
      "Mean epoch output:  [0.03644992]\n",
      "Epoch [49/100], Loss: 0.0076, MAE: 2.1045, Learning Rate: 0.0001\n",
      "Mean epoch output:  [0.02670256]\n",
      "Epoch [50/100], Loss: 0.0077, MAE: 2.1078, Learning Rate: 0.0001\n",
      "Mean epoch output:  [0.02639496]\n",
      "Epoch [51/100], Loss: 0.0076, MAE: 2.1374, Learning Rate: 0.0001\n",
      "Mean epoch output:  [0.00491323]\n",
      "Epoch [52/100], Loss: 0.0072, MAE: 2.0180, Learning Rate: 0.0001\n",
      "Mean epoch output:  [0.06186393]\n",
      "Epoch [53/100], Loss: 0.0071, MAE: 2.0073, Learning Rate: 0.0001\n",
      "Mean epoch output:  [0.02161489]\n",
      "Epoch [54/100], Loss: 0.0069, MAE: 1.9966, Learning Rate: 0.0001\n",
      "Mean epoch output:  [-0.00240139]\n",
      "Epoch [55/100], Loss: 0.0067, MAE: 1.9601, Learning Rate: 0.0001\n",
      "Mean epoch output:  [0.0429015]\n",
      "Epoch [56/100], Loss: 0.0087, MAE: 1.9717, Learning Rate: 0.0001\n",
      "Mean epoch output:  [0.03740587]\n",
      "Epoch [57/100], Loss: 0.0071, MAE: 2.0263, Learning Rate: 0.0001\n",
      "Mean epoch output:  [0.03533217]\n",
      "Epoch [58/100], Loss: 0.0067, MAE: 1.9541, Learning Rate: 0.0001\n",
      "Mean epoch output:  [0.01279199]\n",
      "Epoch [59/100], Loss: 0.0067, MAE: 1.9668, Learning Rate: 0.0001\n",
      "Mean epoch output:  [0.0309721]\n",
      "Epoch [60/100], Loss: 0.0063, MAE: 1.9201, Learning Rate: 0.0001\n",
      "Mean epoch output:  [0.00908083]\n",
      "Epoch [61/100], Loss: 0.0061, MAE: 1.8595, Learning Rate: 0.0001\n",
      "Mean epoch output:  [-0.01938703]\n",
      "Epoch [62/100], Loss: 0.0060, MAE: 1.8282, Learning Rate: 0.0001\n",
      "Mean epoch output:  [0.03332715]\n",
      "Epoch [63/100], Loss: 0.0092, MAE: 1.9909, Learning Rate: 0.0001\n",
      "Mean epoch output:  [0.05407925]\n",
      "Epoch [64/100], Loss: 0.0059, MAE: 1.8442, Learning Rate: 0.0001\n",
      "Mean epoch output:  [-0.01837492]\n",
      "Epoch [65/100], Loss: 0.0061, MAE: 1.8588, Learning Rate: 0.0001\n",
      "Mean epoch output:  [-0.00752955]\n",
      "Epoch [66/100], Loss: 0.0057, MAE: 1.7748, Learning Rate: 0.0001\n",
      "Mean epoch output:  [-0.01005839]\n",
      "Epoch [67/100], Loss: 0.0058, MAE: 1.8307, Learning Rate: 0.0001\n",
      "Mean epoch output:  [0.00192529]\n",
      "Epoch [68/100], Loss: 0.0058, MAE: 1.8049, Learning Rate: 0.0001\n",
      "Mean epoch output:  [-0.02462734]\n",
      "Epoch [69/100], Loss: 0.0059, MAE: 1.8066, Learning Rate: 0.0001\n",
      "Mean epoch output:  [0.03375476]\n",
      "Epoch [70/100], Loss: 0.0062, MAE: 1.8224, Learning Rate: 0.0001\n",
      "Mean epoch output:  [0.00102578]\n",
      "Epoch [71/100], Loss: 0.0056, MAE: 1.7730, Learning Rate: 0.0001\n",
      "Mean epoch output:  [0.05936448]\n",
      "Epoch [72/100], Loss: 0.0056, MAE: 1.7990, Learning Rate: 0.0001\n",
      "Mean epoch output:  [0.01993223]\n",
      "Epoch [73/100], Loss: 0.0053, MAE: 1.7076, Learning Rate: 0.0001\n",
      "Mean epoch output:  [0.00867569]\n",
      "Epoch [74/100], Loss: 0.0058, MAE: 1.7425, Learning Rate: 0.0001\n",
      "Mean epoch output:  [-0.04037255]\n",
      "Epoch [75/100], Loss: 0.0054, MAE: 1.7345, Learning Rate: 0.0001\n",
      "Mean epoch output:  [0.03758023]\n",
      "Epoch [76/100], Loss: 0.0056, MAE: 1.7329, Learning Rate: 0.0001\n",
      "Mean epoch output:  [0.03436228]\n",
      "Epoch [77/100], Loss: 0.0050, MAE: 1.6449, Learning Rate: 0.0001\n",
      "Mean epoch output:  [0.03059279]\n",
      "Epoch [78/100], Loss: 0.0051, MAE: 1.6815, Learning Rate: 0.0001\n",
      "Mean epoch output:  [0.02126873]\n",
      "Epoch [79/100], Loss: 0.0050, MAE: 1.6471, Learning Rate: 0.0001\n",
      "Mean epoch output:  [0.0037939]\n",
      "Epoch [80/100], Loss: 0.0049, MAE: 1.6343, Learning Rate: 0.0001\n",
      "Mean epoch output:  [0.00369222]\n",
      "Epoch [81/100], Loss: 0.0052, MAE: 1.6311, Learning Rate: 0.0001\n",
      "Mean epoch output:  [0.02823196]\n",
      "Epoch [82/100], Loss: 0.0050, MAE: 1.6516, Learning Rate: 0.0001\n",
      "Mean epoch output:  [0.02013751]\n",
      "Epoch [83/100], Loss: 0.0049, MAE: 1.6372, Learning Rate: 0.0001\n",
      "Mean epoch output:  [-0.01500234]\n",
      "Epoch [84/100], Loss: 0.0049, MAE: 1.6178, Learning Rate: 0.0001\n",
      "Mean epoch output:  [0.02632661]\n",
      "Epoch [85/100], Loss: 0.0049, MAE: 1.6615, Learning Rate: 0.0001\n",
      "Mean epoch output:  [0.03557126]\n",
      "Epoch [86/100], Loss: 0.0048, MAE: 1.6326, Learning Rate: 0.0001\n",
      "Mean epoch output:  [-0.02098994]\n",
      "Epoch [87/100], Loss: 0.0050, MAE: 1.6437, Learning Rate: 0.0001\n",
      "Mean epoch output:  [0.0186613]\n",
      "Epoch [88/100], Loss: 0.0047, MAE: 1.5802, Learning Rate: 0.0001\n",
      "Mean epoch output:  [0.03564441]\n",
      "Epoch [89/100], Loss: 0.0043, MAE: 1.5231, Learning Rate: 0.0001\n",
      "Mean epoch output:  [0.01313285]\n",
      "Epoch [90/100], Loss: 0.0048, MAE: 1.6115, Learning Rate: 0.0001\n",
      "Mean epoch output:  [0.05645194]\n",
      "Epoch [91/100], Loss: 0.0045, MAE: 1.5696, Learning Rate: 0.0001\n",
      "Mean epoch output:  [0.04304704]\n",
      "Epoch [92/100], Loss: 0.0046, MAE: 1.5769, Learning Rate: 0.0001\n",
      "Mean epoch output:  [0.03966716]\n",
      "Epoch [93/100], Loss: 0.0046, MAE: 1.5852, Learning Rate: 0.0001\n",
      "Mean epoch output:  [0.02247303]\n",
      "Epoch [94/100], Loss: 0.0048, MAE: 1.5681, Learning Rate: 0.0001\n",
      "Mean epoch output:  [-0.03126372]\n",
      "Epoch [95/100], Loss: 0.0043, MAE: 1.4923, Learning Rate: 0.0001\n",
      "Mean epoch output:  [0.01295084]\n",
      "Epoch [96/100], Loss: 0.0047, MAE: 1.6007, Learning Rate: 0.0001\n",
      "Mean epoch output:  [-0.00760524]\n",
      "Epoch [97/100], Loss: 0.0046, MAE: 1.5538, Learning Rate: 0.0001\n",
      "Mean epoch output:  [0.00654399]\n",
      "Epoch [98/100], Loss: 0.0046, MAE: 1.5734, Learning Rate: 0.0001\n",
      "Mean epoch output:  [0.00249592]\n",
      "Epoch [99/100], Loss: 0.0048, MAE: 1.6233, Learning Rate: 0.0001\n",
      "Mean epoch output:  [0.02674588]\n",
      "Epoch [100/100], Loss: 0.0042, MAE: 1.5078, Learning Rate: 0.0001\n",
      "Mean epoch output:  [-0.01047211]\n"
     ]
    }
   ],
   "source": [
    "#Reduce LR Scheduler\n",
    "scheduler = torch.optim.lr_scheduler.ReduceLROnPlateau(opt, 'min', factor = 0.7, patience = 2)\n",
    "\n",
    "for epoch in range(num_epochs):\n",
    "    model.train()  # Set the model to training mode\n",
    "    running_loss = 0.0\n",
    "    total_output = []\n",
    "    total_mae = 0.0\n",
    "    \n",
    "    for batch_idx, (inputs, labels) in enumerate(trainer):\n",
    "        inputs = inputs.to(device)\n",
    "        labels = labels.to(device)\n",
    "        \n",
    "        outputs = model(inputs).to(device)\n",
    "        \n",
    "        #print(\"Average label: \", sum(labels)/len(labels), \"average output: \",sum(outputs)/len(outputs))\n",
    "       \n",
    "        total_output.append(outputs.cpu().detach().numpy())\n",
    "        \n",
    "        loss = criterion(outputs, labels.float())\n",
    "                         \n",
    "        # Backward pass and optimization\n",
    "        opt.zero_grad()\n",
    "        loss.backward()\n",
    "        opt.step()\n",
    "        scheduler.step(running_loss)\n",
    "\n",
    "        # Accumulate loss\n",
    "        running_loss += loss.item()\n",
    "\n",
    "        # Calculate precision and accuracy\n",
    "        # Calculate MAE for this batch\n",
    "        batch_mae = torch.mean(torch.abs(outputs - labels)).item()\n",
    "        total_mae += batch_mae\n",
    "        \n",
    "    # Calculate average loss and accuracy for the epoch\n",
    "    epoch_loss = running_loss / len(trainer)\n",
    "    lossVec[epoch] = epoch_loss\n",
    "    accuracyVec[epoch] = total_mae\n",
    "    \n",
    "    print(f'Epoch [{epoch+1}/{num_epochs}], Loss: {epoch_loss:.4f}, MAE: {total_mae:.4f}, Learning Rate: {learning_rate}')\n",
    "    \n",
    "    mean_epoch_output = sum(outputs.cpu().detach().numpy()) / len(outputs.cpu().detach().numpy())\n",
    "    print(\"Mean epoch output: \",mean_epoch_output)\n",
    "    \n",
    "total_output = np.concatenate(total_output)"
   ]
  },
  {
   "cell_type": "code",
   "execution_count": 13,
   "id": "f7a4bcb2",
   "metadata": {
    "execution": {
     "iopub.execute_input": "2024-09-12T05:30:49.391382Z",
     "iopub.status.busy": "2024-09-12T05:30:49.390943Z",
     "iopub.status.idle": "2024-09-12T05:30:49.818094Z",
     "shell.execute_reply": "2024-09-12T05:30:49.816999Z"
    },
    "papermill": {
     "duration": 0.441832,
     "end_time": "2024-09-12T05:30:49.820541",
     "exception": false,
     "start_time": "2024-09-12T05:30:49.378709",
     "status": "completed"
    },
    "tags": []
   },
   "outputs": [
    {
     "data": {
      "text/plain": [
       "[<matplotlib.lines.Line2D at 0x7936fbd6cf70>]"
      ]
     },
     "execution_count": 13,
     "metadata": {},
     "output_type": "execute_result"
    },
    {
     "data": {
      "image/png": "[encoded data removed]",
      "text/plain": [
       "<Figure size 640x480 with 1 Axes>"
      ]
     },
     "metadata": {},
     "output_type": "display_data"
    },
    {
     "data": {
      "image/png": "[encoded data removed]",
      "text/plain": [
       "<Figure size 640x480 with 1 Axes>"
      ]
     },
     "metadata": {},
     "output_type": "display_data"
    }
   ],
   "source": [
    "# plot loss\n",
    "import matplotlib.pyplot as plt\n",
    "epochVec = np.arange(1,num_epochs+1)\n",
    "\n",
    "plt.figure(1)\n",
    "plt.plot(epochVec, lossVec,'o-')\n",
    "plt.figure(2)\n",
    "plt.plot(epochVec, accuracyVec,'o-')\n"
   ]
  }
 ],
 "metadata": {
  "kaggle": {
   "accelerator": "none",
   "dataSources": [
    {
     "databundleVersionId": 9057646,
     "sourceId": 76728,
     "sourceType": "competition"
    }
   ],
   "dockerImageVersionId": 30761,
   "isGpuEnabled": false,
   "isInternetEnabled": true,
   "language": "python",
   "sourceType": "notebook"
  },
  "kernelspec": {
   "display_name": "Python 3",
   "language": "python",
   "name": "python3"
  },
  "language_info": {
   "codemirror_mode": {
    "name": "ipython",
    "version": 3
   },
   "file_extension": ".py",
   "mimetype": "text/x-python",
   "name": "python",
   "nbconvert_exporter": "python",
   "pygments_lexer": "ipython3",
   "version": "3.10.14"
  },
  "papermill": {
   "default_parameters": {},
   "duration": 17989.318839,
   "end_time": "2024-09-12T05:30:51.960694",
   "environment_variables": {},
   "exception": null,
   "input_path": "__notebook__.ipynb",
   "output_path": "__notebook__.ipynb",
   "parameters": {},
   "start_time": "2024-09-12T00:31:02.641855",
   "version": "2.6.0"
  }
 },
 "nbformat": 4,
 "nbformat_minor": 5
}
